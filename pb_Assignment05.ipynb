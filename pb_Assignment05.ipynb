{
 "cells": [
  {
   "cell_type": "raw",
   "id": "e536ac4c",
   "metadata": {},
   "source": [
    "1.What does an empty dictionary's code look like?\n",
    "Ans:\n",
    "Two curley brackets{}"
   ]
  },
  {
   "cell_type": "raw",
   "id": "dba59e6d",
   "metadata": {},
   "source": [
    "2. What is the value of a dictionary value with the key 'foo' and the value 42?\n",
    "Ans:\n",
    "{'foo':42}"
   ]
  },
  {
   "cell_type": "raw",
   "id": "7c2efda8",
   "metadata": {},
   "source": [
    "3. What is the most significant distinction between a dictionary and a list?\n",
    "Ans:\n",
    "The items Dictionary are unordered, while the items in a List are ordered."
   ]
  },
  {
   "cell_type": "raw",
   "id": "a12cf148",
   "metadata": {},
   "source": [
    "4. What happens if you try to access spam['foo'] if spam is {'bar': 100}?\n",
    "Ans:\n",
    "Will get a KeyError error."
   ]
  },
  {
   "cell_type": "raw",
   "id": "3b2f5bda",
   "metadata": {},
   "source": [
    "5. If a dictionary is stored in spam, what is the difference between the expressions 'cat' in spam and 'cat' in spam.keys()?\n",
    "Ans:\n",
    "There is no difference. The in operator checks whether a value exists as a key in the dictionary."
   ]
  },
  {
   "cell_type": "raw",
   "id": "cba75135",
   "metadata": {},
   "source": [
    "6. If a dictionary is stored in spam, what is the difference between the expressions 'cat' in spam and 'cat' in spam.values()?\n",
    "Ans:\n",
    "'cat' in spam checks whether there is a 'cat' key in the dictionary, while 'cat' in spam.values() checks whether there is a value 'cat' for one of the keys in spam."
   ]
  },
  {
   "cell_type": "raw",
   "id": "bc4a5c36",
   "metadata": {},
   "source": [
    "7. What is a shortcut for the following code?\n",
    "if 'color' not in spam:\n",
    "spam['color'] = 'black'\n",
    "Ans:\n",
    "spam.setdefault ('color','black')"
   ]
  },
  {
   "cell_type": "raw",
   "id": "b1df0b2f",
   "metadata": {},
   "source": [
    "8. How do you \"pretty print\" dictionary values using which module and function?\n",
    "Ans:\n",
    "pprint.pprint()"
   ]
  }
 ],
 "metadata": {
  "kernelspec": {
   "display_name": "Python 3 (ipykernel)",
   "language": "python",
   "name": "python3"
  },
  "language_info": {
   "codemirror_mode": {
    "name": "ipython",
    "version": 3
   },
   "file_extension": ".py",
   "mimetype": "text/x-python",
   "name": "python",
   "nbconvert_exporter": "python",
   "pygments_lexer": "ipython3",
   "version": "3.9.7"
  }
 },
 "nbformat": 4,
 "nbformat_minor": 5
}
